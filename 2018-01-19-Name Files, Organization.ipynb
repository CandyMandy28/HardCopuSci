{
 "cells": [
  {
   "cell_type": "markdown",
   "metadata": {},
   "source": [
    "# File Name\n",
    "\n",
    "```c#\n",
    "string filename = @\"...\";\n",
    "using (StreamWriter sw = File.CreateText(filename))\n",
    "{\n",
    "    sw.WriteLine(\"...\");\n",
    "}\n",
    "```"
   ]
  },
  {
   "cell_type": "markdown",
   "metadata": {},
   "source": [
    "# 3D stuff\n",
    "\n",
    "x,   y,   z\n",
    "\n",
    "v_x, v_y, v_z\n",
    "\n",
    "F_x, F_y, F_z\n",
    "\n",
    "z is always up\n",
    "\n",
    "*Note:* This is fine for now but will go over actual expectations for it"
   ]
  },
  {
   "cell_type": "markdown",
   "metadata": {},
   "source": [
    "# Organization\n",
    "\n",
    "```c#\n",
    "static void Main(string[] args)\n",
    "{\n",
    "    LevelI();\n",
    "    LevelII();\n",
    "    LevelIII();\n",
    "    Challenge();\n",
    "}\n",
    "\n",
    "static string thingy = \"constant thingy\";\n",
    "\n",
    "static void LevelI(\n",
    "{\n",
    "    //...\n",
    "}\n",
    "// etc.\n",
    "```"
   ]
  },
  {
   "cell_type": "markdown",
   "metadata": {},
   "source": [
    "*\"Just don't worry about it\"*"
   ]
  }
 ],
 "metadata": {
  "kernelspec": {
   "display_name": "Python 3",
   "language": "python",
   "name": "python3"
  },
  "language_info": {
   "codemirror_mode": {
    "name": "ipython",
    "version": 3
   },
   "file_extension": ".py",
   "mimetype": "text/x-python",
   "name": "python",
   "nbconvert_exporter": "python",
   "pygments_lexer": "ipython3",
   "version": "3.6.3"
  }
 },
 "nbformat": 4,
 "nbformat_minor": 2
}
